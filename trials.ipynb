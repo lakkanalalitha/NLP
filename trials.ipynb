{
 "cells": [
  {
   "cell_type": "code",
   "execution_count": 1,
   "metadata": {},
   "outputs": [],
   "source": [
    "d = {\"key\":\"value\", \"key1\":\"value1\"}"
   ]
  },
  {
   "cell_type": "code",
   "execution_count": 2,
   "metadata": {},
   "outputs": [
    {
     "data": {
      "text/plain": [
       "'value'"
      ]
     },
     "execution_count": 2,
     "metadata": {},
     "output_type": "execute_result"
    }
   ],
   "source": [
    "d['key']"
   ]
  },
  {
   "cell_type": "code",
   "execution_count": 9,
   "metadata": {},
   "outputs": [
    {
     "name": "stdout",
     "output_type": "stream",
     "text": [
      "Collecting config-boxNote: you may need to restart the kernel to use updated packages.\n",
      "\n",
      "  Downloading config_box-0.2.1600119743-py3-none-any.whl.metadata (873 bytes)\n",
      "Collecting hiyapyco (from config-box)\n",
      "  Downloading HiYaPyCo-0.6.0-py2.py3-none-any.whl.metadata (11 kB)\n",
      "Collecting Jinja2<4,>3 (from hiyapyco->config-box)\n",
      "  Using cached jinja2-3.1.4-py3-none-any.whl.metadata (2.6 kB)\n",
      "Collecting MarkupSafe<3 (from hiyapyco->config-box)\n",
      "  Using cached MarkupSafe-2.1.5-cp38-cp38-win_amd64.whl.metadata (3.1 kB)\n",
      "Collecting PyYAML<7 (from hiyapyco->config-box)\n",
      "  Using cached PyYAML-6.0.1-cp38-cp38-win_amd64.whl.metadata (2.1 kB)\n",
      "Downloading config_box-0.2.1600119743-py3-none-any.whl (2.4 kB)\n",
      "Downloading HiYaPyCo-0.6.0-py2.py3-none-any.whl (23 kB)\n",
      "Using cached jinja2-3.1.4-py3-none-any.whl (133 kB)\n",
      "Using cached MarkupSafe-2.1.5-cp38-cp38-win_amd64.whl (17 kB)\n",
      "Using cached PyYAML-6.0.1-cp38-cp38-win_amd64.whl (157 kB)\n",
      "Installing collected packages: PyYAML, MarkupSafe, Jinja2, hiyapyco, config-box\n",
      "Successfully installed Jinja2-3.1.4 MarkupSafe-2.1.5 PyYAML-6.0.1 config-box-0.2.1600119743 hiyapyco-0.6.0\n"
     ]
    }
   ],
   "source": [
    "%pip install config-box"
   ]
  },
  {
   "cell_type": "code",
   "execution_count": 4,
   "metadata": {},
   "outputs": [
    {
     "name": "stdout",
     "output_type": "stream",
     "text": [
      "Collecting python-box~=7.0 (from python-box[all]~=7.0)Note: you may need to restart the kernel to use updated packages.\n",
      "\n",
      "  Downloading python_box-7.1.1-cp38-cp38-win_amd64.whl.metadata (8.0 kB)\n",
      "Collecting ruamel.yaml>=0.17 (from python-box[all]~=7.0)\n",
      "  Downloading ruamel.yaml-0.18.6-py3-none-any.whl.metadata (23 kB)\n",
      "Collecting toml (from python-box[all]~=7.0)\n",
      "  Using cached toml-0.10.2-py2.py3-none-any.whl.metadata (7.1 kB)\n",
      "Collecting msgpack (from python-box[all]~=7.0)\n",
      "  Downloading msgpack-1.0.8-cp38-cp38-win_amd64.whl.metadata (9.4 kB)\n",
      "Collecting ruamel.yaml.clib>=0.2.7 (from ruamel.yaml>=0.17->python-box[all]~=7.0)\n",
      "  Downloading ruamel.yaml.clib-0.2.8-cp38-cp38-win_amd64.whl.metadata (2.3 kB)\n",
      "Downloading python_box-7.1.1-cp38-cp38-win_amd64.whl (1.2 MB)\n",
      "   ---------------------------------------- 0.0/1.2 MB ? eta -:--:--\n",
      "   --- ------------------------------------ 0.1/1.2 MB 3.0 MB/s eta 0:00:01\n",
      "   ---- ----------------------------------- 0.1/1.2 MB 1.4 MB/s eta 0:00:01\n",
      "   -------- ------------------------------- 0.3/1.2 MB 2.0 MB/s eta 0:00:01\n",
      "   ---------------- ----------------------- 0.5/1.2 MB 2.5 MB/s eta 0:00:01\n",
      "   ------------------ --------------------- 0.5/1.2 MB 2.3 MB/s eta 0:00:01\n",
      "   ------------------- -------------------- 0.6/1.2 MB 2.2 MB/s eta 0:00:01\n",
      "   --------------------- ------------------ 0.6/1.2 MB 1.8 MB/s eta 0:00:01\n",
      "   --------------------- ------------------ 0.6/1.2 MB 1.8 MB/s eta 0:00:01\n",
      "   ----------------------- ---------------- 0.7/1.2 MB 1.6 MB/s eta 0:00:01\n",
      "   ------------------------ --------------- 0.7/1.2 MB 1.6 MB/s eta 0:00:01\n",
      "   ------------------------- -------------- 0.8/1.2 MB 1.3 MB/s eta 0:00:01\n",
      "   ------------------------- -------------- 0.8/1.2 MB 1.3 MB/s eta 0:00:01\n",
      "   ------------------------- -------------- 0.8/1.2 MB 1.3 MB/s eta 0:00:01\n",
      "   ------------------------- -------------- 0.8/1.2 MB 1.3 MB/s eta 0:00:01\n",
      "   -------------------------- ------------- 0.8/1.2 MB 1.1 MB/s eta 0:00:01\n",
      "   --------------------------- ------------ 0.8/1.2 MB 1.0 MB/s eta 0:00:01\n",
      "   --------------------------- ------------ 0.8/1.2 MB 996.3 kB/s eta 0:00:01\n",
      "   ---------------------------- ----------- 0.8/1.2 MB 983.9 kB/s eta 0:00:01\n",
      "   ---------------------------- ----------- 0.8/1.2 MB 983.9 kB/s eta 0:00:01\n",
      "   ----------------------------- ---------- 0.9/1.2 MB 902.6 kB/s eta 0:00:01\n",
      "   ------------------------------ --------- 0.9/1.2 MB 864.1 kB/s eta 0:00:01\n",
      "   ------------------------------- -------- 0.9/1.2 MB 845.4 kB/s eta 0:00:01\n",
      "   -------------------------------- ------- 1.0/1.2 MB 826.4 kB/s eta 0:00:01\n",
      "   -------------------------------- ------- 1.0/1.2 MB 826.4 kB/s eta 0:00:01\n",
      "   --------------------------------- ------ 1.0/1.2 MB 798.7 kB/s eta 0:00:01\n",
      "   ---------------------------------- ----- 1.0/1.2 MB 791.4 kB/s eta 0:00:01\n",
      "   ---------------------------------- ----- 1.0/1.2 MB 753.5 kB/s eta 0:00:01\n",
      "   ---------------------------------- ----- 1.0/1.2 MB 753.5 kB/s eta 0:00:01\n",
      "   ------------------------------------ --- 1.1/1.2 MB 748.2 kB/s eta 0:00:01\n",
      "   -------------------------------------- - 1.1/1.2 MB 750.9 kB/s eta 0:00:01\n",
      "   ---------------------------------------  1.2/1.2 MB 762.5 kB/s eta 0:00:01\n",
      "   ---------------------------------------- 1.2/1.2 MB 737.8 kB/s eta 0:00:00\n",
      "Downloading ruamel.yaml-0.18.6-py3-none-any.whl (117 kB)\n",
      "   ---------------------------------------- 0.0/117.8 kB ? eta -:--:--\n",
      "   ------------------------ --------------- 71.7/117.8 kB 1.3 MB/s eta 0:00:01\n",
      "   ---------------------------------------- 117.8/117.8 kB 1.2 MB/s eta 0:00:00\n",
      "Downloading msgpack-1.0.8-cp38-cp38-win_amd64.whl (75 kB)\n",
      "   ---------------------------------------- 0.0/75.3 kB ? eta -:--:--\n",
      "   ----- ---------------------------------- 10.2/75.3 kB ? eta -:--:--\n",
      "   ----- ---------------------------------- 10.2/75.3 kB ? eta -:--:--\n",
      "   -------------------------------------- - 71.7/75.3 kB 777.7 kB/s eta 0:00:01\n",
      "   ---------------------------------------- 75.3/75.3 kB 692.5 kB/s eta 0:00:00\n",
      "Using cached toml-0.10.2-py2.py3-none-any.whl (16 kB)\n",
      "Downloading ruamel.yaml.clib-0.2.8-cp38-cp38-win_amd64.whl (118 kB)\n",
      "   ---------------------------------------- 0.0/118.5 kB ? eta -:--:--\n",
      "   --- ------------------------------------ 10.2/118.5 kB ? eta -:--:--\n",
      "   ------------- ------------------------- 41.0/118.5 kB 653.6 kB/s eta 0:00:01\n",
      "   -------------------- ------------------ 61.4/118.5 kB 656.4 kB/s eta 0:00:01\n",
      "   ------------------------------ -------- 92.2/118.5 kB 525.1 kB/s eta 0:00:01\n",
      "   ------------------------------------ - 112.6/118.5 kB 547.6 kB/s eta 0:00:01\n",
      "   -------------------------------------- 118.5/118.5 kB 462.7 kB/s eta 0:00:00\n",
      "Installing collected packages: toml, ruamel.yaml.clib, python-box, msgpack, ruamel.yaml\n",
      "Successfully installed msgpack-1.0.8 python-box-7.1.1 ruamel.yaml-0.18.6 ruamel.yaml.clib-0.2.8 toml-0.10.2\n"
     ]
    }
   ],
   "source": [
    "\n",
    "pip install python-box[all]~=7.0 --upgrade"
   ]
  },
  {
   "cell_type": "code",
   "execution_count": 10,
   "metadata": {},
   "outputs": [],
   "source": [
    "from box import Box"
   ]
  },
  {
   "cell_type": "code",
   "execution_count": 11,
   "metadata": {},
   "outputs": [],
   "source": [
    "box_d = Box({\"key\":\"value\", \"key1\":\"value1\"})"
   ]
  },
  {
   "cell_type": "code",
   "execution_count": 12,
   "metadata": {},
   "outputs": [
    {
     "data": {
      "text/plain": [
       "'value'"
      ]
     },
     "execution_count": 12,
     "metadata": {},
     "output_type": "execute_result"
    }
   ],
   "source": [
    "box_d.key"
   ]
  },
  {
   "cell_type": "code",
   "execution_count": null,
   "metadata": {},
   "outputs": [],
   "source": []
  }
 ],
 "metadata": {
  "kernelspec": {
   "display_name": "NLP",
   "language": "python",
   "name": "python3"
  },
  "language_info": {
   "codemirror_mode": {
    "name": "ipython",
    "version": 3
   },
   "file_extension": ".py",
   "mimetype": "text/x-python",
   "name": "python",
   "nbconvert_exporter": "python",
   "pygments_lexer": "ipython3",
   "version": "3.8.19"
  }
 },
 "nbformat": 4,
 "nbformat_minor": 2
}
